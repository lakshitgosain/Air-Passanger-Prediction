{
 "cells": [
  {
   "cell_type": "code",
   "execution_count": 1,
   "metadata": {},
   "outputs": [],
   "source": [
    "import numpy as np\n",
    "import pandas as pd\n"
   ]
  },
  {
   "cell_type": "code",
   "execution_count": 2,
   "metadata": {},
   "outputs": [],
   "source": [
    "import matplotlib.pyplot as plt\n",
    "import seaborn as sns"
   ]
  },
  {
   "cell_type": "code",
   "execution_count": 4,
   "metadata": {},
   "outputs": [],
   "source": [
    "data=pd.read_csv('AirPassengers.csv')"
   ]
  },
  {
   "cell_type": "code",
   "execution_count": 5,
   "metadata": {},
   "outputs": [
    {
     "data": {
      "text/html": [
       "<div>\n",
       "<style scoped>\n",
       "    .dataframe tbody tr th:only-of-type {\n",
       "        vertical-align: middle;\n",
       "    }\n",
       "\n",
       "    .dataframe tbody tr th {\n",
       "        vertical-align: top;\n",
       "    }\n",
       "\n",
       "    .dataframe thead th {\n",
       "        text-align: right;\n",
       "    }\n",
       "</style>\n",
       "<table border=\"1\" class=\"dataframe\">\n",
       "  <thead>\n",
       "    <tr style=\"text-align: right;\">\n",
       "      <th></th>\n",
       "      <th>Month</th>\n",
       "      <th>#Passengers</th>\n",
       "    </tr>\n",
       "  </thead>\n",
       "  <tbody>\n",
       "    <tr>\n",
       "      <th>0</th>\n",
       "      <td>1949-01</td>\n",
       "      <td>112</td>\n",
       "    </tr>\n",
       "    <tr>\n",
       "      <th>1</th>\n",
       "      <td>1949-02</td>\n",
       "      <td>118</td>\n",
       "    </tr>\n",
       "    <tr>\n",
       "      <th>2</th>\n",
       "      <td>1949-03</td>\n",
       "      <td>132</td>\n",
       "    </tr>\n",
       "    <tr>\n",
       "      <th>3</th>\n",
       "      <td>1949-04</td>\n",
       "      <td>129</td>\n",
       "    </tr>\n",
       "    <tr>\n",
       "      <th>4</th>\n",
       "      <td>1949-05</td>\n",
       "      <td>121</td>\n",
       "    </tr>\n",
       "  </tbody>\n",
       "</table>\n",
       "</div>"
      ],
      "text/plain": [
       "     Month  #Passengers\n",
       "0  1949-01          112\n",
       "1  1949-02          118\n",
       "2  1949-03          132\n",
       "3  1949-04          129\n",
       "4  1949-05          121"
      ]
     },
     "execution_count": 5,
     "metadata": {},
     "output_type": "execute_result"
    }
   ],
   "source": [
    "data.head()\n"
   ]
  },
  {
   "cell_type": "code",
   "execution_count": 8,
   "metadata": {},
   "outputs": [
    {
     "data": {
      "text/plain": [
       "[<matplotlib.lines.Line2D at 0x1c9cf603208>]"
      ]
     },
     "execution_count": 8,
     "metadata": {},
     "output_type": "execute_result"
    },
    {
     "data": {
      "image/png": "[encoded data removed]",
      "text/plain": [
       "<Figure size 432x288 with 1 Axes>"
      ]
     },
     "metadata": {
      "needs_background": "light"
     },
     "output_type": "display_data"
    }
   ],
   "source": [
    "plt.plot(data.iloc[:,1])"
   ]
  },
  {
   "cell_type": "code",
   "execution_count": 9,
   "metadata": {},
   "outputs": [],
   "source": [
    "from sklearn.preprocessing import MinMaxScaler\n"
   ]
  },
  {
   "cell_type": "code",
   "execution_count": 12,
   "metadata": {},
   "outputs": [],
   "source": [
    "scalar=MinMaxScaler(feature_range=(0,1))\n"
   ]
  },
  {
   "cell_type": "code",
   "execution_count": 17,
   "metadata": {},
   "outputs": [],
   "source": [
    "data=scalar.fit_transform(data.iloc[:,1:])"
   ]
  },
  {
   "cell_type": "code",
   "execution_count": 18,
   "metadata": {},
   "outputs": [
    {
     "data": {
      "text/plain": [
       "array([[0.01544402],\n",
       "       [0.02702703],\n",
       "       [0.05405405],\n",
       "       [0.04826255],\n",
       "       [0.03281853],\n",
       "       [0.05984556],\n",
       "       [0.08494208],\n",
       "       [0.08494208],\n",
       "       [0.06177606],\n",
       "       [0.02895753],\n",
       "       [0.        ],\n",
       "       [0.02702703],\n",
       "       [0.02123552],\n",
       "       [0.04247104],\n",
       "       [0.07142857],\n",
       "       [0.05984556],\n",
       "       [0.04054054],\n",
       "       [0.08687259],\n",
       "       [0.12741313],\n",
       "       [0.12741313],\n",
       "       [0.1042471 ],\n",
       "       [0.05598456],\n",
       "       [0.01930502],\n",
       "       [0.06949807],\n",
       "       [0.07915058],\n",
       "       [0.08880309],\n",
       "       [0.14285714],\n",
       "       [0.11389961],\n",
       "       [0.13127413],\n",
       "       [0.14285714],\n",
       "       [0.18339768],\n",
       "       [0.18339768],\n",
       "       [0.15444015],\n",
       "       [0.11196911],\n",
       "       [0.08108108],\n",
       "       [0.11969112],\n",
       "       [0.12934363],\n",
       "       [0.14671815],\n",
       "       [0.17181467],\n",
       "       [0.14864865],\n",
       "       [0.15250965],\n",
       "       [0.22007722],\n",
       "       [0.24324324],\n",
       "       [0.26640927],\n",
       "       [0.2027027 ],\n",
       "       [0.16795367],\n",
       "       [0.13127413],\n",
       "       [0.17374517],\n",
       "       [0.17760618],\n",
       "       [0.17760618],\n",
       "       [0.25482625],\n",
       "       [0.25289575],\n",
       "       [0.24131274],\n",
       "       [0.26833977],\n",
       "       [0.30888031],\n",
       "       [0.32432432],\n",
       "       [0.25675676],\n",
       "       [0.20656371],\n",
       "       [0.14671815],\n",
       "       [0.18725869],\n",
       "       [0.19305019],\n",
       "       [0.16216216],\n",
       "       [0.25289575],\n",
       "       [0.23745174],\n",
       "       [0.25096525],\n",
       "       [0.30888031],\n",
       "       [0.38223938],\n",
       "       [0.36486486],\n",
       "       [0.2992278 ],\n",
       "       [0.24131274],\n",
       "       [0.19111969],\n",
       "       [0.24131274],\n",
       "       [0.26640927],\n",
       "       [0.24903475],\n",
       "       [0.31467181],\n",
       "       [0.31853282],\n",
       "       [0.32046332],\n",
       "       [0.40733591],\n",
       "       [0.5019305 ],\n",
       "       [0.46911197],\n",
       "       [0.4015444 ],\n",
       "       [0.32818533],\n",
       "       [0.25675676],\n",
       "       [0.33590734],\n",
       "       [0.34749035],\n",
       "       [0.33397683],\n",
       "       [0.41119691],\n",
       "       [0.4034749 ],\n",
       "       [0.41312741],\n",
       "       [0.52123552],\n",
       "       [0.5965251 ],\n",
       "       [0.58108108],\n",
       "       [0.48455598],\n",
       "       [0.38996139],\n",
       "       [0.32239382],\n",
       "       [0.38996139],\n",
       "       [0.40733591],\n",
       "       [0.38030888],\n",
       "       [0.48648649],\n",
       "       [0.47104247],\n",
       "       [0.48455598],\n",
       "       [0.61389961],\n",
       "       [0.6969112 ],\n",
       "       [0.7007722 ],\n",
       "       [0.57915058],\n",
       "       [0.46911197],\n",
       "       [0.38803089],\n",
       "       [0.44787645],\n",
       "       [0.45559846],\n",
       "       [0.41312741],\n",
       "       [0.4980695 ],\n",
       "       [0.47104247],\n",
       "       [0.5       ],\n",
       "       [0.63899614],\n",
       "       [0.74710425],\n",
       "       [0.77413127],\n",
       "       [0.57915058],\n",
       "       [0.49227799],\n",
       "       [0.3976834 ],\n",
       "       [0.44980695],\n",
       "       [0.49420849],\n",
       "       [0.45945946],\n",
       "       [0.58301158],\n",
       "       [0.56370656],\n",
       "       [0.61003861],\n",
       "       [0.71042471],\n",
       "       [0.85714286],\n",
       "       [0.87837838],\n",
       "       [0.69305019],\n",
       "       [0.58494208],\n",
       "       [0.4980695 ],\n",
       "       [0.58108108],\n",
       "       [0.6042471 ],\n",
       "       [0.55405405],\n",
       "       [0.60810811],\n",
       "       [0.68918919],\n",
       "       [0.71042471],\n",
       "       [0.83204633],\n",
       "       [1.        ],\n",
       "       [0.96911197],\n",
       "       [0.77992278],\n",
       "       [0.68918919],\n",
       "       [0.55212355],\n",
       "       [0.63320463]])"
      ]
     },
     "execution_count": 18,
     "metadata": {},
     "output_type": "execute_result"
    }
   ],
   "source": [
    "data"
   ]
  },
  {
   "cell_type": "code",
   "execution_count": 20,
   "metadata": {},
   "outputs": [
    {
     "data": {
      "text/plain": [
       "(144, 1)"
      ]
     },
     "execution_count": 20,
     "metadata": {},
     "output_type": "execute_result"
    }
   ],
   "source": [
    "data.shape"
   ]
  },
  {
   "cell_type": "code",
   "execution_count": 21,
   "metadata": {},
   "outputs": [],
   "source": [
    "training_size=int(len(data)*0.65)"
   ]
  },
  {
   "cell_type": "code",
   "execution_count": 22,
   "metadata": {},
   "outputs": [],
   "source": [
    "test_size=int(len(data)*0.35)"
   ]
  },
  {
   "cell_type": "code",
   "execution_count": 23,
   "metadata": {},
   "outputs": [],
   "source": [
    "train_df,test_df=data[0:training_size],data[training_size:len(data)]"
   ]
  },
  {
   "cell_type": "code",
   "execution_count": 24,
   "metadata": {},
   "outputs": [
    {
     "data": {
      "text/plain": [
       "(93, 1)"
      ]
     },
     "execution_count": 24,
     "metadata": {},
     "output_type": "execute_result"
    }
   ],
   "source": [
    "train_df.shape"
   ]
  },
  {
   "cell_type": "code",
   "execution_count": 26,
   "metadata": {},
   "outputs": [
    {
     "data": {
      "text/plain": [
       "array([[0.01544402],\n",
       "       [0.02702703],\n",
       "       [0.05405405],\n",
       "       [0.04826255],\n",
       "       [0.03281853],\n",
       "       [0.05984556],\n",
       "       [0.08494208],\n",
       "       [0.08494208],\n",
       "       [0.06177606],\n",
       "       [0.02895753],\n",
       "       [0.        ],\n",
       "       [0.02702703],\n",
       "       [0.02123552],\n",
       "       [0.04247104],\n",
       "       [0.07142857],\n",
       "       [0.05984556],\n",
       "       [0.04054054],\n",
       "       [0.08687259],\n",
       "       [0.12741313],\n",
       "       [0.12741313],\n",
       "       [0.1042471 ],\n",
       "       [0.05598456],\n",
       "       [0.01930502],\n",
       "       [0.06949807],\n",
       "       [0.07915058],\n",
       "       [0.08880309],\n",
       "       [0.14285714],\n",
       "       [0.11389961],\n",
       "       [0.13127413],\n",
       "       [0.14285714],\n",
       "       [0.18339768],\n",
       "       [0.18339768],\n",
       "       [0.15444015],\n",
       "       [0.11196911],\n",
       "       [0.08108108],\n",
       "       [0.11969112],\n",
       "       [0.12934363],\n",
       "       [0.14671815],\n",
       "       [0.17181467],\n",
       "       [0.14864865],\n",
       "       [0.15250965],\n",
       "       [0.22007722],\n",
       "       [0.24324324],\n",
       "       [0.26640927],\n",
       "       [0.2027027 ],\n",
       "       [0.16795367],\n",
       "       [0.13127413],\n",
       "       [0.17374517],\n",
       "       [0.17760618],\n",
       "       [0.17760618],\n",
       "       [0.25482625],\n",
       "       [0.25289575],\n",
       "       [0.24131274],\n",
       "       [0.26833977],\n",
       "       [0.30888031],\n",
       "       [0.32432432],\n",
       "       [0.25675676],\n",
       "       [0.20656371],\n",
       "       [0.14671815],\n",
       "       [0.18725869],\n",
       "       [0.19305019],\n",
       "       [0.16216216],\n",
       "       [0.25289575],\n",
       "       [0.23745174],\n",
       "       [0.25096525],\n",
       "       [0.30888031],\n",
       "       [0.38223938],\n",
       "       [0.36486486],\n",
       "       [0.2992278 ],\n",
       "       [0.24131274],\n",
       "       [0.19111969],\n",
       "       [0.24131274],\n",
       "       [0.26640927],\n",
       "       [0.24903475],\n",
       "       [0.31467181],\n",
       "       [0.31853282],\n",
       "       [0.32046332],\n",
       "       [0.40733591],\n",
       "       [0.5019305 ],\n",
       "       [0.46911197],\n",
       "       [0.4015444 ],\n",
       "       [0.32818533],\n",
       "       [0.25675676],\n",
       "       [0.33590734],\n",
       "       [0.34749035],\n",
       "       [0.33397683],\n",
       "       [0.41119691],\n",
       "       [0.4034749 ],\n",
       "       [0.41312741],\n",
       "       [0.52123552],\n",
       "       [0.5965251 ],\n",
       "       [0.58108108],\n",
       "       [0.48455598]])"
      ]
     },
     "execution_count": 26,
     "metadata": {},
     "output_type": "execute_result"
    }
   ],
   "source": [
    "train_df"
   ]
  },
  {
   "cell_type": "code",
   "execution_count": 60,
   "metadata": {},
   "outputs": [
    {
     "data": {
      "text/plain": [
       "(51, 1)"
      ]
     },
     "execution_count": 60,
     "metadata": {},
     "output_type": "execute_result"
    }
   ],
   "source": [
    "test_df.shape"
   ]
  },
  {
   "cell_type": "code",
   "execution_count": 31,
   "metadata": {},
   "outputs": [],
   "source": [
    "def create_dataset(dataset,time_step=1):\n",
    "    dataX,dataY=[],[]\n",
    "    for i in range(len(dataset)-time_step-1):\n",
    "        a=dataset[i:(i+time_step),0]\n",
    "        dataX.append(a)\n",
    "        dataY.append(dataset[i+time_step,0])\n",
    "    return np.array(dataX),np.array(dataY)"
   ]
  },
  {
   "cell_type": "code",
   "execution_count": 32,
   "metadata": {},
   "outputs": [],
   "source": [
    "time_step=4\n",
    "X_train,y_train=create_dataset(train_df,time_step)\n",
    "X_test,y_test=create_dataset(test_df,time_step)"
   ]
  },
  {
   "cell_type": "code",
   "execution_count": 35,
   "metadata": {},
   "outputs": [
    {
     "data": {
      "text/plain": [
       "((88, 4), (88,))"
      ]
     },
     "execution_count": 35,
     "metadata": {},
     "output_type": "execute_result"
    }
   ],
   "source": [
    "X_train.shape , y_train.shape"
   ]
  },
  {
   "cell_type": "code",
   "execution_count": 36,
   "metadata": {},
   "outputs": [],
   "source": [
    "X_train=X_train.reshape(X_train.shape[0],4,1)"
   ]
  },
  {
   "cell_type": "code",
   "execution_count": 37,
   "metadata": {},
   "outputs": [
    {
     "data": {
      "text/plain": [
       "(88, 4, 1)"
      ]
     },
     "execution_count": 37,
     "metadata": {},
     "output_type": "execute_result"
    }
   ],
   "source": [
    "X_train.shape"
   ]
  },
  {
   "cell_type": "code",
   "execution_count": 39,
   "metadata": {},
   "outputs": [],
   "source": [
    "X_test=X_test.reshape(X_test.shape[0],4,1)"
   ]
  },
  {
   "cell_type": "code",
   "execution_count": 40,
   "metadata": {},
   "outputs": [
    {
     "data": {
      "text/plain": [
       "(46, 4, 1)"
      ]
     },
     "execution_count": 40,
     "metadata": {},
     "output_type": "execute_result"
    }
   ],
   "source": [
    "X_test.shape"
   ]
  },
  {
   "cell_type": "code",
   "execution_count": null,
   "metadata": {},
   "outputs": [],
   "source": []
  },
  {
   "cell_type": "code",
   "execution_count": null,
   "metadata": {},
   "outputs": [],
   "source": []
  },
  {
   "cell_type": "markdown",
   "metadata": {},
   "source": [
    "Create LSTM Models"
   ]
  },
  {
   "cell_type": "code",
   "execution_count": 42,
   "metadata": {},
   "outputs": [],
   "source": [
    "from tensorflow.keras.models import Sequential\n",
    "from tensorflow.keras.layers import Dense\n",
    "from tensorflow.keras.layers import LSTM"
   ]
  },
  {
   "cell_type": "code",
   "execution_count": 46,
   "metadata": {},
   "outputs": [
    {
     "name": "stdout",
     "output_type": "stream",
     "text": [
      "Train on 88 samples, validate on 46 samples\n",
      "Epoch 1/100\n",
      "88/88 [==============================] - 8s 94ms/sample - loss: 0.0154 - val_loss: 0.0271\n",
      "Epoch 2/100\n",
      "88/88 [==============================] - 1s 11ms/sample - loss: 0.0069 - val_loss: 0.0294\n",
      "Epoch 3/100\n",
      "88/88 [==============================] - 1s 12ms/sample - loss: 0.0069 - val_loss: 0.0292\n",
      "Epoch 4/100\n",
      "88/88 [==============================] - 1s 10ms/sample - loss: 0.0051 - val_loss: 0.0348\n",
      "Epoch 5/100\n",
      "88/88 [==============================] - 1s 10ms/sample - loss: 0.0062 - val_loss: 0.0273\n",
      "Epoch 6/100\n",
      "88/88 [==============================] - 1s 11ms/sample - loss: 0.0060 - val_loss: 0.0247\n",
      "Epoch 7/100\n",
      "88/88 [==============================] - 1s 9ms/sample - loss: 0.0053 - val_loss: 0.0245\n",
      "Epoch 8/100\n",
      "88/88 [==============================] - 1s 9ms/sample - loss: 0.0050 - val_loss: 0.0249\n",
      "Epoch 9/100\n",
      "88/88 [==============================] - 1s 9ms/sample - loss: 0.0046 - val_loss: 0.0265\n",
      "Epoch 10/100\n",
      "88/88 [==============================] - 1s 9ms/sample - loss: 0.0046 - val_loss: 0.0224\n",
      "Epoch 11/100\n",
      "88/88 [==============================] - 1s 9ms/sample - loss: 0.0045 - val_loss: 0.0218\n",
      "Epoch 12/100\n",
      "88/88 [==============================] - 1s 10ms/sample - loss: 0.0042 - val_loss: 0.0280\n",
      "Epoch 13/100\n",
      "88/88 [==============================] - 2s 18ms/sample - loss: 0.0040 - val_loss: 0.0238\n",
      "Epoch 14/100\n",
      "88/88 [==============================] - 1s 16ms/sample - loss: 0.0044 - val_loss: 0.0169\n",
      "Epoch 15/100\n",
      "88/88 [==============================] - 1s 10ms/sample - loss: 0.0034 - val_loss: 0.0294\n",
      "Epoch 16/100\n",
      "88/88 [==============================] - 1s 12ms/sample - loss: 0.0038 - val_loss: 0.0136\n",
      "Epoch 17/100\n",
      "88/88 [==============================] - 1s 9ms/sample - loss: 0.0036 - val_loss: 0.0120\n",
      "Epoch 18/100\n",
      "88/88 [==============================] - 1s 10ms/sample - loss: 0.0033 - val_loss: 0.0099\n",
      "Epoch 19/100\n",
      "88/88 [==============================] - 1s 10ms/sample - loss: 0.0030 - val_loss: 0.0103\n",
      "Epoch 20/100\n",
      "88/88 [==============================] - 1s 10ms/sample - loss: 0.0034 - val_loss: 0.0163\n",
      "Epoch 21/100\n",
      "88/88 [==============================] - 1s 10ms/sample - loss: 0.0028 - val_loss: 0.0110\n",
      "Epoch 22/100\n",
      "88/88 [==============================] - 1s 10ms/sample - loss: 0.0024 - val_loss: 0.0082\n",
      "Epoch 23/100\n",
      "88/88 [==============================] - 1s 9ms/sample - loss: 0.0021 - val_loss: 0.0077\n",
      "Epoch 24/100\n",
      "88/88 [==============================] - 1s 8ms/sample - loss: 0.0022 - val_loss: 0.0072\n",
      "Epoch 25/100\n",
      "88/88 [==============================] - 1s 9ms/sample - loss: 0.0020 - val_loss: 0.0096\n",
      "Epoch 26/100\n",
      "88/88 [==============================] - 1s 9ms/sample - loss: 0.0020 - val_loss: 0.0109\n",
      "Epoch 27/100\n",
      "88/88 [==============================] - 1s 8ms/sample - loss: 0.0023 - val_loss: 0.0104\n",
      "Epoch 28/100\n",
      "88/88 [==============================] - 1s 9ms/sample - loss: 0.0021 - val_loss: 0.0082\n",
      "Epoch 29/100\n",
      "88/88 [==============================] - 1s 8ms/sample - loss: 0.0024 - val_loss: 0.0078\n",
      "Epoch 30/100\n",
      "88/88 [==============================] - 1s 8ms/sample - loss: 0.0021 - val_loss: 0.0102\n",
      "Epoch 31/100\n",
      "88/88 [==============================] - 1s 9ms/sample - loss: 0.0019 - val_loss: 0.0089\n",
      "Epoch 32/100\n",
      "88/88 [==============================] - 1s 8ms/sample - loss: 0.0018 - val_loss: 0.0078\n",
      "Epoch 33/100\n",
      "88/88 [==============================] - 1s 8ms/sample - loss: 0.0020 - val_loss: 0.0077\n",
      "Epoch 34/100\n",
      "88/88 [==============================] - 1s 8ms/sample - loss: 0.0020 - val_loss: 0.0078\n",
      "Epoch 35/100\n",
      "88/88 [==============================] - 1s 10ms/sample - loss: 0.0019 - val_loss: 0.0117\n",
      "Epoch 36/100\n",
      "88/88 [==============================] - 1s 10ms/sample - loss: 0.0019 - val_loss: 0.0079\n",
      "Epoch 37/100\n",
      "88/88 [==============================] - 1s 10ms/sample - loss: 0.0021 - val_loss: 0.0076\n",
      "Epoch 38/100\n",
      "88/88 [==============================] - 1s 10ms/sample - loss: 0.0018 - val_loss: 0.0142\n",
      "Epoch 39/100\n",
      "88/88 [==============================] - 1s 10ms/sample - loss: 0.0020 - val_loss: 0.0081\n",
      "Epoch 40/100\n",
      "88/88 [==============================] - 1s 10ms/sample - loss: 0.0020 - val_loss: 0.0104\n",
      "Epoch 41/100\n",
      "88/88 [==============================] - 1s 10ms/sample - loss: 0.0019 - val_loss: 0.0179\n",
      "Epoch 42/100\n",
      "88/88 [==============================] - 1s 9ms/sample - loss: 0.0019 - val_loss: 0.0075\n",
      "Epoch 43/100\n",
      "88/88 [==============================] - 1s 9ms/sample - loss: 0.0022 - val_loss: 0.0082\n",
      "Epoch 44/100\n",
      "88/88 [==============================] - 1s 8ms/sample - loss: 0.0022 - val_loss: 0.0159\n",
      "Epoch 45/100\n",
      "88/88 [==============================] - 1s 11ms/sample - loss: 0.0019 - val_loss: 0.0114\n",
      "Epoch 46/100\n",
      "88/88 [==============================] - 1s 9ms/sample - loss: 0.0020 - val_loss: 0.0082\n",
      "Epoch 47/100\n",
      "88/88 [==============================] - 1s 9ms/sample - loss: 0.0022 - val_loss: 0.0097\n",
      "Epoch 48/100\n",
      "88/88 [==============================] - 1s 9ms/sample - loss: 0.0017 - val_loss: 0.0077\n",
      "Epoch 49/100\n",
      "88/88 [==============================] - 1s 9ms/sample - loss: 0.0020 - val_loss: 0.0091\n",
      "Epoch 50/100\n",
      "88/88 [==============================] - 1s 8ms/sample - loss: 0.0018 - val_loss: 0.0099\n",
      "Epoch 51/100\n",
      "88/88 [==============================] - 1s 9ms/sample - loss: 0.0019 - val_loss: 0.0072\n",
      "Epoch 52/100\n",
      "88/88 [==============================] - 1s 9ms/sample - loss: 0.0018 - val_loss: 0.0171\n",
      "Epoch 53/100\n",
      "88/88 [==============================] - 1s 9ms/sample - loss: 0.0020 - val_loss: 0.0101\n",
      "Epoch 54/100\n",
      "88/88 [==============================] - 1s 9ms/sample - loss: 0.0021 - val_loss: 0.0076\n",
      "Epoch 55/100\n",
      "88/88 [==============================] - 1s 9ms/sample - loss: 0.0017 - val_loss: 0.0103\n",
      "Epoch 56/100\n",
      "88/88 [==============================] - 1s 9ms/sample - loss: 0.0019 - val_loss: 0.0099\n",
      "Epoch 57/100\n",
      "88/88 [==============================] - 1s 9ms/sample - loss: 0.0021 - val_loss: 0.0099\n",
      "Epoch 58/100\n",
      "88/88 [==============================] - 1s 10ms/sample - loss: 0.0020 - val_loss: 0.0100\n",
      "Epoch 59/100\n",
      "88/88 [==============================] - 1s 10ms/sample - loss: 0.0024 - val_loss: 0.0181\n",
      "Epoch 60/100\n",
      "88/88 [==============================] - 1s 10ms/sample - loss: 0.0018 - val_loss: 0.0081\n",
      "Epoch 61/100\n",
      "88/88 [==============================] - 1s 12ms/sample - loss: 0.0019 - val_loss: 0.0106\n",
      "Epoch 62/100\n",
      "88/88 [==============================] - 1s 12ms/sample - loss: 0.0019 - val_loss: 0.0074\n",
      "Epoch 63/100\n",
      "88/88 [==============================] - 1s 9ms/sample - loss: 0.0019 - val_loss: 0.0093\n",
      "Epoch 64/100\n",
      "88/88 [==============================] - 1s 8ms/sample - loss: 0.0020 - val_loss: 0.0229\n",
      "Epoch 65/100\n",
      "88/88 [==============================] - 1s 9ms/sample - loss: 0.0021 - val_loss: 0.0101\n",
      "Epoch 66/100\n",
      "88/88 [==============================] - 1s 9ms/sample - loss: 0.0021 - val_loss: 0.0147\n",
      "Epoch 67/100\n",
      "88/88 [==============================] - 1s 10ms/sample - loss: 0.0020 - val_loss: 0.0102\n",
      "Epoch 68/100\n",
      "88/88 [==============================] - 1s 9ms/sample - loss: 0.0020 - val_loss: 0.0105\n",
      "Epoch 69/100\n",
      "88/88 [==============================] - 1s 9ms/sample - loss: 0.0020 - val_loss: 0.0098\n",
      "Epoch 70/100\n",
      "88/88 [==============================] - 1s 11ms/sample - loss: 0.0018 - val_loss: 0.0080\n",
      "Epoch 71/100\n",
      "88/88 [==============================] - 1s 12ms/sample - loss: 0.0020 - val_loss: 0.0191\n",
      "Epoch 72/100\n",
      "88/88 [==============================] - 1s 10ms/sample - loss: 0.0020 - val_loss: 0.0188\n",
      "Epoch 73/100\n",
      "88/88 [==============================] - 1s 9ms/sample - loss: 0.0018 - val_loss: 0.0187\n",
      "Epoch 74/100\n",
      "88/88 [==============================] - 1s 9ms/sample - loss: 0.0018 - val_loss: 0.0073\n",
      "Epoch 75/100\n",
      "88/88 [==============================] - 1s 9ms/sample - loss: 0.0019 - val_loss: 0.0114\n",
      "Epoch 76/100\n",
      "88/88 [==============================] - 1s 9ms/sample - loss: 0.0018 - val_loss: 0.0137\n",
      "Epoch 77/100\n",
      "88/88 [==============================] - 1s 13ms/sample - loss: 0.0019 - val_loss: 0.0155\n",
      "Epoch 78/100\n",
      "88/88 [==============================] - 1s 11ms/sample - loss: 0.0020 - val_loss: 0.0086\n",
      "Epoch 79/100\n",
      "88/88 [==============================] - 1s 9ms/sample - loss: 0.0020 - val_loss: 0.0121\n",
      "Epoch 80/100\n"
     ]
    },
    {
     "name": "stdout",
     "output_type": "stream",
     "text": [
      "88/88 [==============================] - 1s 8ms/sample - loss: 0.0019 - val_loss: 0.0095\n",
      "Epoch 81/100\n",
      "88/88 [==============================] - 1s 8ms/sample - loss: 0.0019 - val_loss: 0.0123\n",
      "Epoch 82/100\n",
      "88/88 [==============================] - 1s 7ms/sample - loss: 0.0019 - val_loss: 0.0073\n",
      "Epoch 83/100\n",
      "88/88 [==============================] - 1s 6ms/sample - loss: 0.0020 - val_loss: 0.0142\n",
      "Epoch 84/100\n",
      "88/88 [==============================] - 1s 7ms/sample - loss: 0.0022 - val_loss: 0.0103\n",
      "Epoch 85/100\n",
      "88/88 [==============================] - 1s 8ms/sample - loss: 0.0020 - val_loss: 0.0086\n",
      "Epoch 86/100\n",
      "88/88 [==============================] - 1s 7ms/sample - loss: 0.0017 - val_loss: 0.0105\n",
      "Epoch 87/100\n",
      "88/88 [==============================] - 1s 7ms/sample - loss: 0.0018 - val_loss: 0.0079\n",
      "Epoch 88/100\n",
      "88/88 [==============================] - 1s 7ms/sample - loss: 0.0018 - val_loss: 0.0122\n",
      "Epoch 89/100\n",
      "88/88 [==============================] - 1s 7ms/sample - loss: 0.0019 - val_loss: 0.0083\n",
      "Epoch 90/100\n",
      "88/88 [==============================] - 1s 7ms/sample - loss: 0.0020 - val_loss: 0.0104\n",
      "Epoch 91/100\n",
      "88/88 [==============================] - 1s 7ms/sample - loss: 0.0021 - val_loss: 0.0323\n",
      "Epoch 92/100\n",
      "88/88 [==============================] - 1s 7ms/sample - loss: 0.0021 - val_loss: 0.0168\n",
      "Epoch 93/100\n",
      "88/88 [==============================] - 1s 7ms/sample - loss: 0.0018 - val_loss: 0.0074\n",
      "Epoch 94/100\n",
      "88/88 [==============================] - 1s 7ms/sample - loss: 0.0020 - val_loss: 0.0072\n",
      "Epoch 95/100\n",
      "88/88 [==============================] - 1s 7ms/sample - loss: 0.0019 - val_loss: 0.0089\n",
      "Epoch 96/100\n",
      "88/88 [==============================] - 1s 6ms/sample - loss: 0.0019 - val_loss: 0.0097\n",
      "Epoch 97/100\n",
      "88/88 [==============================] - 1s 6ms/sample - loss: 0.0020 - val_loss: 0.0151\n",
      "Epoch 98/100\n",
      "88/88 [==============================] - 1s 6ms/sample - loss: 0.0019 - val_loss: 0.0078\n",
      "Epoch 99/100\n",
      "88/88 [==============================] - 1s 7ms/sample - loss: 0.0021 - val_loss: 0.0080\n",
      "Epoch 100/100\n",
      "88/88 [==============================] - 1s 6ms/sample - loss: 0.0018 - val_loss: 0.0078\n"
     ]
    },
    {
     "data": {
      "text/plain": [
       "<tensorflow.python.keras.callbacks.History at 0x1c9db3c1948>"
      ]
     },
     "execution_count": 46,
     "metadata": {},
     "output_type": "execute_result"
    }
   ],
   "source": [
    "model=Sequential()\n",
    "model.add(LSTM(50,return_sequences=True,input_shape=(4,1)))\n",
    "model.add(LSTM(50))\n",
    "model.add(Dense(1))\n",
    "model.compile(loss='mean_squared_error',optimizer='adam')\n",
    "model.fit(X_train,y_train,validation_data=(X_test,y_test),epochs=100,batch_size=1,verbose=1)"
   ]
  },
  {
   "cell_type": "code",
   "execution_count": null,
   "metadata": {},
   "outputs": [],
   "source": []
  },
  {
   "cell_type": "code",
   "execution_count": 47,
   "metadata": {},
   "outputs": [],
   "source": [
    "from sklearn.metrics import mean_squared_error"
   ]
  },
  {
   "cell_type": "code",
   "execution_count": 48,
   "metadata": {},
   "outputs": [],
   "source": [
    "test_pred=model.predict(X_test)"
   ]
  },
  {
   "cell_type": "code",
   "execution_count": 71,
   "metadata": {},
   "outputs": [
    {
     "ename": "ValueError",
     "evalue": "Expected 2D array, got 1D array instead:\narray=[0.38030888 0.48648649 0.47104247 0.48455598 0.61389961 0.6969112\n 0.7007722  0.57915058 0.46911197 0.38803089 0.44787645 0.45559846\n 0.41312741 0.4980695  0.47104247 0.5        0.63899614 0.74710425\n 0.77413127 0.57915058 0.49227799 0.3976834  0.44980695 0.49420849\n 0.45945946 0.58301158 0.56370656 0.61003861 0.71042471 0.85714286\n 0.87837838 0.69305019 0.58494208 0.4980695  0.58108108 0.6042471\n 0.55405405 0.60810811 0.68918919 0.71042471 0.83204633 1.\n 0.96911197 0.77992278 0.68918919 0.55212355].\nReshape your data either using array.reshape(-1, 1) if your data has a single feature or array.reshape(1, -1) if it contains a single sample.",
     "output_type": "error",
     "traceback": [
      "\u001b[1;31m---------------------------------------------------------------------------\u001b[0m",
      "\u001b[1;31mValueError\u001b[0m                                Traceback (most recent call last)",
      "\u001b[1;32m<ipython-input-71-02a5b9f3ae68>\u001b[0m in \u001b[0;36m<module>\u001b[1;34m\u001b[0m\n\u001b[0;32m      1\u001b[0m \u001b[0mscalar\u001b[0m\u001b[1;33m.\u001b[0m\u001b[0minverse_transform\u001b[0m\u001b[1;33m(\u001b[0m\u001b[0mtest_pred\u001b[0m\u001b[1;33m)\u001b[0m\u001b[1;33m\u001b[0m\u001b[1;33m\u001b[0m\u001b[0m\n\u001b[1;32m----> 2\u001b[1;33m \u001b[0mscalar\u001b[0m\u001b[1;33m.\u001b[0m\u001b[0minverse_transform\u001b[0m\u001b[1;33m(\u001b[0m\u001b[0my_test\u001b[0m\u001b[1;33m)\u001b[0m\u001b[1;33m\u001b[0m\u001b[1;33m\u001b[0m\u001b[0m\n\u001b[0m",
      "\u001b[1;32m~\\Anaconda3\\lib\\site-packages\\sklearn\\preprocessing\\_data.py\u001b[0m in \u001b[0;36minverse_transform\u001b[1;34m(self, X)\u001b[0m\n\u001b[0;32m    432\u001b[0m \u001b[1;33m\u001b[0m\u001b[0m\n\u001b[0;32m    433\u001b[0m         X = check_array(X, copy=self.copy, dtype=FLOAT_DTYPES,\n\u001b[1;32m--> 434\u001b[1;33m                         force_all_finite=\"allow-nan\")\n\u001b[0m\u001b[0;32m    435\u001b[0m \u001b[1;33m\u001b[0m\u001b[0m\n\u001b[0;32m    436\u001b[0m         \u001b[0mX\u001b[0m \u001b[1;33m-=\u001b[0m \u001b[0mself\u001b[0m\u001b[1;33m.\u001b[0m\u001b[0mmin_\u001b[0m\u001b[1;33m\u001b[0m\u001b[1;33m\u001b[0m\u001b[0m\n",
      "\u001b[1;32m~\\Anaconda3\\lib\\site-packages\\sklearn\\utils\\validation.py\u001b[0m in \u001b[0;36mcheck_array\u001b[1;34m(array, accept_sparse, accept_large_sparse, dtype, order, copy, force_all_finite, ensure_2d, allow_nd, ensure_min_samples, ensure_min_features, warn_on_dtype, estimator)\u001b[0m\n\u001b[0;32m    554\u001b[0m                     \u001b[1;34m\"Reshape your data either using array.reshape(-1, 1) if \"\u001b[0m\u001b[1;33m\u001b[0m\u001b[1;33m\u001b[0m\u001b[0m\n\u001b[0;32m    555\u001b[0m                     \u001b[1;34m\"your data has a single feature or array.reshape(1, -1) \"\u001b[0m\u001b[1;33m\u001b[0m\u001b[1;33m\u001b[0m\u001b[0m\n\u001b[1;32m--> 556\u001b[1;33m                     \"if it contains a single sample.\".format(array))\n\u001b[0m\u001b[0;32m    557\u001b[0m \u001b[1;33m\u001b[0m\u001b[0m\n\u001b[0;32m    558\u001b[0m         \u001b[1;31m# in the future np.flexible dtypes will be handled like object dtypes\u001b[0m\u001b[1;33m\u001b[0m\u001b[1;33m\u001b[0m\u001b[1;33m\u001b[0m\u001b[0m\n",
      "\u001b[1;31mValueError\u001b[0m: Expected 2D array, got 1D array instead:\narray=[0.38030888 0.48648649 0.47104247 0.48455598 0.61389961 0.6969112\n 0.7007722  0.57915058 0.46911197 0.38803089 0.44787645 0.45559846\n 0.41312741 0.4980695  0.47104247 0.5        0.63899614 0.74710425\n 0.77413127 0.57915058 0.49227799 0.3976834  0.44980695 0.49420849\n 0.45945946 0.58301158 0.56370656 0.61003861 0.71042471 0.85714286\n 0.87837838 0.69305019 0.58494208 0.4980695  0.58108108 0.6042471\n 0.55405405 0.60810811 0.68918919 0.71042471 0.83204633 1.\n 0.96911197 0.77992278 0.68918919 0.55212355].\nReshape your data either using array.reshape(-1, 1) if your data has a single feature or array.reshape(1, -1) if it contains a single sample."
     ]
    }
   ],
   "source": [
    "scalar.inverse_transform(test_pred)\n",
    "scalar.inverse_transform(y_test)"
   ]
  },
  {
   "cell_type": "code",
   "execution_count": 50,
   "metadata": {},
   "outputs": [],
   "source": [
    "import math"
   ]
  },
  {
   "cell_type": "code",
   "execution_count": 69,
   "metadata": {},
   "outputs": [
    {
     "data": {
      "text/plain": [
       "0.08844442717926017"
      ]
     },
     "execution_count": 69,
     "metadata": {},
     "output_type": "execute_result"
    }
   ],
   "source": [
    "math.sqrt(mean_squared_error(y_test,test_pred))"
   ]
  },
  {
   "cell_type": "code",
   "execution_count": 59,
   "metadata": {},
   "outputs": [
    {
     "data": {
      "text/plain": [
       "array([[0.38996139],\n",
       "       [0.32239382],\n",
       "       [0.38996139],\n",
       "       [0.40733591],\n",
       "       [0.38030888],\n",
       "       [0.48648649],\n",
       "       [0.47104247],\n",
       "       [0.48455598],\n",
       "       [0.61389961],\n",
       "       [0.6969112 ],\n",
       "       [0.7007722 ],\n",
       "       [0.57915058],\n",
       "       [0.46911197],\n",
       "       [0.38803089],\n",
       "       [0.44787645],\n",
       "       [0.45559846],\n",
       "       [0.41312741],\n",
       "       [0.4980695 ],\n",
       "       [0.47104247],\n",
       "       [0.5       ],\n",
       "       [0.63899614],\n",
       "       [0.74710425],\n",
       "       [0.77413127],\n",
       "       [0.57915058],\n",
       "       [0.49227799],\n",
       "       [0.3976834 ],\n",
       "       [0.44980695],\n",
       "       [0.49420849],\n",
       "       [0.45945946],\n",
       "       [0.58301158],\n",
       "       [0.56370656],\n",
       "       [0.61003861],\n",
       "       [0.71042471],\n",
       "       [0.85714286],\n",
       "       [0.87837838],\n",
       "       [0.69305019],\n",
       "       [0.58494208],\n",
       "       [0.4980695 ],\n",
       "       [0.58108108],\n",
       "       [0.6042471 ],\n",
       "       [0.55405405],\n",
       "       [0.60810811],\n",
       "       [0.68918919],\n",
       "       [0.71042471],\n",
       "       [0.83204633],\n",
       "       [1.        ],\n",
       "       [0.96911197],\n",
       "       [0.77992278],\n",
       "       [0.68918919],\n",
       "       [0.55212355],\n",
       "       [0.63320463]])"
      ]
     },
     "execution_count": 59,
     "metadata": {},
     "output_type": "execute_result"
    }
   ],
   "source": [
    "test_df"
   ]
  },
  {
   "cell_type": "code",
   "execution_count": 68,
   "metadata": {},
   "outputs": [
    {
     "data": {
      "text/plain": [
       "((46,), (46, 1))"
      ]
     },
     "execution_count": 68,
     "metadata": {},
     "output_type": "execute_result"
    }
   ],
   "source": [
    "y_test.shape, test_pred.shape"
   ]
  },
  {
   "cell_type": "code",
   "execution_count": 70,
   "metadata": {},
   "outputs": [
    {
     "data": {
      "text/plain": [
       "array([0.38030888, 0.48648649, 0.47104247, 0.48455598, 0.61389961,\n",
       "       0.6969112 , 0.7007722 , 0.57915058, 0.46911197, 0.38803089,\n",
       "       0.44787645, 0.45559846, 0.41312741, 0.4980695 , 0.47104247,\n",
       "       0.5       , 0.63899614, 0.74710425, 0.77413127, 0.57915058,\n",
       "       0.49227799, 0.3976834 , 0.44980695, 0.49420849, 0.45945946,\n",
       "       0.58301158, 0.56370656, 0.61003861, 0.71042471, 0.85714286,\n",
       "       0.87837838, 0.69305019, 0.58494208, 0.4980695 , 0.58108108,\n",
       "       0.6042471 , 0.55405405, 0.60810811, 0.68918919, 0.71042471,\n",
       "       0.83204633, 1.        , 0.96911197, 0.77992278, 0.68918919,\n",
       "       0.55212355])"
      ]
     },
     "execution_count": 70,
     "metadata": {},
     "output_type": "execute_result"
    }
   ],
   "source": [
    "y_test"
   ]
  },
  {
   "cell_type": "code",
   "execution_count": null,
   "metadata": {},
   "outputs": [],
   "source": []
  }
 ],
 "metadata": {
  "kernelspec": {
   "display_name": "Python 3",
   "language": "python",
   "name": "python3"
  },
  "language_info": {
   "codemirror_mode": {
    "name": "ipython",
    "version": 3
   },
   "file_extension": ".py",
   "mimetype": "text/x-python",
   "name": "python",
   "nbconvert_exporter": "python",
   "pygments_lexer": "ipython3",
   "version": "3.7.7"
  }
 },
 "nbformat": 4,
 "nbformat_minor": 4
}
